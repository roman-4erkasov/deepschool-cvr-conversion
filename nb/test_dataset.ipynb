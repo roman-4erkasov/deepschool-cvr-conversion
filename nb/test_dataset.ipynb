{
 "cells": [
  {
   "cell_type": "code",
   "execution_count": 1,
   "id": "a136a331-8010-4ecf-a6c6-ea823dbce435",
   "metadata": {
    "tags": []
   },
   "outputs": [],
   "source": [
    "import sys"
   ]
  },
  {
   "cell_type": "code",
   "execution_count": 2,
   "id": "ec77062d-f3b0-47cf-b00d-c4f087b8e459",
   "metadata": {
    "tags": []
   },
   "outputs": [],
   "source": [
    "sys.path.append(\"../src/\")\n",
    "\n",
    "import pandas as pd\n",
    "from dataset import PlanetDataset"
   ]
  },
  {
   "cell_type": "code",
   "execution_count": 12,
   "id": "312e6f21-8b69-4286-8c0b-0d6ce1443e91",
   "metadata": {
    "tags": []
   },
   "outputs": [],
   "source": [
    "dataset = PlanetDataset(\n",
    "    df=pd.read_csv(\"/home/fatuus/data/planets-dataset/planet/planet/valid_df.csv\"),\n",
    "    image_folder=\"/home/fatuus/data/planets-dataset/planet/planet/train-jpg/\"\n",
    ")"
   ]
  },
  {
   "cell_type": "code",
   "execution_count": 14,
   "id": "9226bdbc-b1f8-49ba-92a9-e48427409cb8",
   "metadata": {
    "tags": []
   },
   "outputs": [
    {
     "data": {
      "text/plain": [
       "4048"
      ]
     },
     "execution_count": 14,
     "metadata": {},
     "output_type": "execute_result"
    }
   ],
   "source": [
    "len(dataset)"
   ]
  },
  {
   "cell_type": "code",
   "execution_count": 15,
   "id": "0e49dcee-cbce-4c75-ab5e-d0d29be1ed1b",
   "metadata": {
    "tags": []
   },
   "outputs": [],
   "source": [
    "from torch.utils.data import DataLoader"
   ]
  },
  {
   "cell_type": "code",
   "execution_count": 17,
   "id": "22c16756-f7f9-438b-b081-b8aea78a2ef8",
   "metadata": {
    "tags": []
   },
   "outputs": [],
   "source": [
    "loader = DataLoader(\n",
    "    dataset=dataset,\n",
    "    batch_size=16,\n",
    "    num_workers=4,\n",
    "    shuffle=False,\n",
    "    drop_last=False,\n",
    ")\n"
   ]
  },
  {
   "cell_type": "code",
   "execution_count": null,
   "id": "62b6137a-ae58-436e-8313-21b99874e46e",
   "metadata": {},
   "outputs": [],
   "source": []
  }
 ],
 "metadata": {
  "kernelspec": {
   "display_name": "Python 3 (ipykernel)",
   "language": "python",
   "name": "python3"
  },
  "language_info": {
   "codemirror_mode": {
    "name": "ipython",
    "version": 3
   },
   "file_extension": ".py",
   "mimetype": "text/x-python",
   "name": "python",
   "nbconvert_exporter": "python",
   "pygments_lexer": "ipython3",
   "version": "3.8.16"
  }
 },
 "nbformat": 4,
 "nbformat_minor": 5
}
