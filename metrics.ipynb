{
 "cells": [
  {
   "cell_type": "code",
   "execution_count": 1,
   "id": "aea577eb",
   "metadata": {
    "collapsed": true,
    "jupyter": {
     "outputs_hidden": true
    }
   },
   "outputs": [
    {
     "name": "stdout",
     "output_type": "stream",
     "text": [
      "Looking in indexes: https://pypi.org/simple, https://pypi.ngc.nvidia.com\n",
      "Collecting torchmetrics\n",
      "  Downloading torchmetrics-0.11.4-py3-none-any.whl (519 kB)\n",
      "\u001b[2K     \u001b[90m━━━━━━━━━━━━━━━━━━━━━━━━━━━━━━━━━━━━━━━\u001b[0m \u001b[32m519.2/519.2 kB\u001b[0m \u001b[31m3.5 MB/s\u001b[0m eta \u001b[36m0:00:00\u001b[0ma \u001b[36m0:00:01\u001b[0m\n",
      "\u001b[?25hRequirement already satisfied: numpy>=1.17.2 in /usr/local/lib/python3.8/dist-packages (from torchmetrics) (1.22.2)\n",
      "Requirement already satisfied: torch>=1.8.1 in /usr/local/lib/python3.8/dist-packages (from torchmetrics) (2.1.0a0+fe05266)\n",
      "Requirement already satisfied: packaging in /usr/local/lib/python3.8/dist-packages (from torchmetrics) (23.0)\n",
      "Requirement already satisfied: typing-extensions in /usr/local/lib/python3.8/dist-packages (from torchmetrics) (4.5.0)\n",
      "Requirement already satisfied: filelock in /usr/local/lib/python3.8/dist-packages (from torch>=1.8.1->torchmetrics) (3.11.0)\n",
      "Requirement already satisfied: sympy in /usr/local/lib/python3.8/dist-packages (from torch>=1.8.1->torchmetrics) (1.11.1)\n",
      "Requirement already satisfied: networkx in /usr/local/lib/python3.8/dist-packages (from torch>=1.8.1->torchmetrics) (2.6.3)\n",
      "Requirement already satisfied: jinja2 in /usr/local/lib/python3.8/dist-packages (from torch>=1.8.1->torchmetrics) (3.1.2)\n",
      "Requirement already satisfied: MarkupSafe>=2.0 in /usr/local/lib/python3.8/dist-packages (from jinja2->torch>=1.8.1->torchmetrics) (2.1.2)\n",
      "Requirement already satisfied: mpmath>=0.19 in /usr/local/lib/python3.8/dist-packages (from sympy->torch>=1.8.1->torchmetrics) (1.3.0)\n",
      "Installing collected packages: torchmetrics\n",
      "Successfully installed torchmetrics-0.11.4\n",
      "\u001b[33mWARNING: Running pip as the 'root' user can result in broken permissions and conflicting behaviour with the system package manager. It is recommended to use a virtual environment instead: https://pip.pypa.io/warnings/venv\u001b[0m\u001b[33m\n",
      "\u001b[0mNote: you may need to restart the kernel to use updated packages.\n"
     ]
    }
   ],
   "source": [
    "%pip install torchmetrics"
   ]
  },
  {
   "cell_type": "code",
   "execution_count": 2,
   "id": "8de5c080",
   "metadata": {},
   "outputs": [],
   "source": [
    "import torch as th"
   ]
  },
  {
   "cell_type": "code",
   "execution_count": 3,
   "id": "d5eee074",
   "metadata": {},
   "outputs": [
    {
     "data": {
      "text/plain": [
       "True"
      ]
     },
     "execution_count": 3,
     "metadata": {},
     "output_type": "execute_result"
    }
   ],
   "source": [
    "th.cuda.is_available()"
   ]
  },
  {
   "cell_type": "code",
   "execution_count": 50,
   "id": "240967cf",
   "metadata": {
    "tags": []
   },
   "outputs": [],
   "source": [
    "import sys\n",
    "sys.path.append(\"src/\")\n",
    "import yaml\n",
    "import numpy as np\n",
    "import pandas as pd\n",
    "import torch_tensorrt\n",
    "from dataset import PlanetDataset\n",
    "from torch.utils.data import DataLoader\n",
    "import torchmetrics\n",
    "from torchmetrics.classification import BinaryAUROC, BinaryAccuracy\n",
    "\n",
    "from utils import preprocess_image\n",
    "\n",
    "from src.model.torch import ModelTorch\n",
    "from src.utils import MAX_UINT8\n",
    "\n",
    "BATCH_SIZES = [1,2,4,8]\n",
    "DEVICE = \"cuda\"\n"
   ]
  },
  {
   "cell_type": "code",
   "execution_count": 54,
   "id": "67b290b7",
   "metadata": {
    "tags": []
   },
   "outputs": [],
   "source": [
    "def get_metrics(model):\n",
    "    acc_fn = BinaryAccuracy(task=\"multilabel\", num_labels=17)\n",
    "    auc_fn = BinaryAUROC(task=\"multilabel\", num_labels=17)\n",
    "    accuracies = []\n",
    "    aucs = []\n",
    "    for images, labels in loader:\n",
    "        pred = model(images.to(\"cuda\"))\n",
    "        acc = acc_fn(pred.to(\"cpu\"),labels)\n",
    "        auc = auc_fn(pred.to(\"cpu\"),labels)\n",
    "        accuracies.append(acc)\n",
    "        aucs.append(auc)\n",
    "    return {\"auc\": np.mean(aucs), \"acc\": np.mean(accuracies)}"
   ]
  },
  {
   "cell_type": "code",
   "execution_count": null,
   "id": "87299a4a",
   "metadata": {},
   "outputs": [],
   "source": []
  },
  {
   "cell_type": "code",
   "execution_count": 6,
   "id": "de876555",
   "metadata": {
    "tags": []
   },
   "outputs": [],
   "source": [
    "dataset = PlanetDataset(\n",
    "    df=pd.read_csv(\"/workspace/data/valid_df.csv\"),\n",
    "    image_folder=\"/workspace/data/train-jpg/\"\n",
    ")\n",
    "loader = DataLoader(\n",
    "    dataset=dataset,\n",
    "    batch_size=8,\n",
    "    num_workers=4,\n",
    "    shuffle=False,\n",
    "    drop_last=False,\n",
    ")\n"
   ]
  },
  {
   "cell_type": "code",
   "execution_count": 7,
   "id": "4dcb8a8c",
   "metadata": {},
   "outputs": [
    {
     "name": "stderr",
     "output_type": "stream",
     "text": [
      "Downloading model.safetensors: 100%|██████████| 46.8M/46.8M [00:00<00:00, 57.5MB/s]\n"
     ]
    }
   ],
   "source": [
    "records = []\n",
    "with open(\"./config/torch.yaml\") as fp:\n",
    "    cfg_torch = yaml.safe_load(fp)\n",
    "\n",
    "cfg_torch[\"device\"] = DEVICE\n",
    "model_torch = ModelTorch(cfg_torch)"
   ]
  },
  {
   "cell_type": "code",
   "execution_count": 57,
   "id": "bd215e39",
   "metadata": {},
   "outputs": [
    {
     "name": "stderr",
     "output_type": "stream",
     "text": [
      "WARNING: [Torch-TensorRT] - Dilation not used in Max pooling converter\n"
     ]
    },
    {
     "name": "stdout",
     "output_type": "stream",
     "text": [
      "{'auc': 0.9417781, 'acc': 0.91496164}\n"
     ]
    }
   ],
   "source": [
    "trt_model = torch_tensorrt.compile(\n",
    "    model_torch.model,                                       \n",
    "    inputs = [\n",
    "        torch_tensorrt.Input(\n",
    "            (8, 3, MAX_UINT8, MAX_UINT8)\n",
    "        )\n",
    "    ], \n",
    "    enabled_precisions = th.float32,                # <- изменения здесь\n",
    "    workspace_size = 1 << 30,                     \n",
    ")\n",
    "print(get_metrics(trt_model))"
   ]
  },
  {
   "cell_type": "code",
   "execution_count": 58,
   "id": "b481b1f4",
   "metadata": {},
   "outputs": [
    {
     "name": "stderr",
     "output_type": "stream",
     "text": [
      "WARNING: [Torch-TensorRT] - Dilation not used in Max pooling converter\n",
      "WARNING: [Torch-TensorRT TorchScript Conversion Context] - TensorRT encountered issues when converting weights between types and that could affect accuracy.\n",
      "WARNING: [Torch-TensorRT TorchScript Conversion Context] - If this is not the desired behavior, please modify the weights or retrain with regularization to adjust the magnitude of the weights.\n",
      "WARNING: [Torch-TensorRT TorchScript Conversion Context] - Check verbose logs for the list of affected weights.\n",
      "WARNING: [Torch-TensorRT TorchScript Conversion Context] - - 29 weights are affected by this issue: Detected subnormal FP16 values.\n",
      "WARNING: [Torch-TensorRT TorchScript Conversion Context] - - 15 weights are affected by this issue: Detected values less than smallest positive FP16 subnormal value and converted them to the FP16 minimum subnormalized value.\n"
     ]
    },
    {
     "name": "stdout",
     "output_type": "stream",
     "text": [
      "{'auc': 0.94175446, 'acc': 0.91496164}\n"
     ]
    }
   ],
   "source": [
    "trt_model = torch_tensorrt.compile(\n",
    "    model_torch.model,                                       \n",
    "    inputs = [\n",
    "        torch_tensorrt.Input(\n",
    "            (8, 3, MAX_UINT8, MAX_UINT8)\n",
    "        )\n",
    "    ], \n",
    "    enabled_precisions = th.float16,                # <- изменения здесь\n",
    "    workspace_size = 1 << 30,                     \n",
    ")\n",
    "print(get_metrics(trt_model))"
   ]
  },
  {
   "cell_type": "code",
   "execution_count": null,
   "id": "2778266a",
   "metadata": {},
   "outputs": [],
   "source": []
  }
 ],
 "metadata": {
  "kernelspec": {
   "display_name": "Python 3 (ipykernel)",
   "language": "python",
   "name": "python3"
  },
  "language_info": {
   "codemirror_mode": {
    "name": "ipython",
    "version": 3
   },
   "file_extension": ".py",
   "mimetype": "text/x-python",
   "name": "python",
   "nbconvert_exporter": "python",
   "pygments_lexer": "ipython3",
   "version": "3.8.10"
  }
 },
 "nbformat": 4,
 "nbformat_minor": 5
}
